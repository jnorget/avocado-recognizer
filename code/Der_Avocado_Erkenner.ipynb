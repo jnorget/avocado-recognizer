{
  "nbformat": 4,
  "nbformat_minor": 0,
  "metadata": {
    "colab": {
      "provenance": [],
      "collapsed_sections": [
        "pIFuIfJScD_w"
      ]
    },
    "kernelspec": {
      "name": "python3",
      "display_name": "Python 3"
    },
    "language_info": {
      "name": "python"
    },
    "accelerator": "GPU",
    "gpuClass": "standard"
  },
  "cells": [
    {
      "cell_type": "markdown",
      "source": [
        "# **Der Avocado-Erkenner**"
      ],
      "metadata": {
        "id": "nu-u0wXCaafl"
      }
    },
    {
      "cell_type": "markdown",
      "source": [
        "### 1.) Foto hochladen"
      ],
      "metadata": {
        "id": "Aatkc25Ybveb"
      }
    },
    {
      "cell_type": "code",
      "execution_count": null,
      "metadata": {
        "id": "ZHvRwjJwP-fl",
        "colab": {
          "base_uri": "https://localhost:8080/",
          "height": 73
        },
        "outputId": "932466ae-7c3d-41f4-e289-ba45f358bafb"
      },
      "outputs": [
        {
          "output_type": "display_data",
          "data": {
            "text/plain": [
              "<IPython.core.display.HTML object>"
            ],
            "text/html": [
              "\n",
              "     <input type=\"file\" id=\"files-4e523c70-0987-40c7-853c-6f60c06b4c24\" name=\"files[]\" multiple disabled\n",
              "        style=\"border:none\" />\n",
              "     <output id=\"result-4e523c70-0987-40c7-853c-6f60c06b4c24\">\n",
              "      Upload widget is only available when the cell has been executed in the\n",
              "      current browser session. Please rerun this cell to enable.\n",
              "      </output>\n",
              "      <script>// Copyright 2017 Google LLC\n",
              "//\n",
              "// Licensed under the Apache License, Version 2.0 (the \"License\");\n",
              "// you may not use this file except in compliance with the License.\n",
              "// You may obtain a copy of the License at\n",
              "//\n",
              "//      http://www.apache.org/licenses/LICENSE-2.0\n",
              "//\n",
              "// Unless required by applicable law or agreed to in writing, software\n",
              "// distributed under the License is distributed on an \"AS IS\" BASIS,\n",
              "// WITHOUT WARRANTIES OR CONDITIONS OF ANY KIND, either express or implied.\n",
              "// See the License for the specific language governing permissions and\n",
              "// limitations under the License.\n",
              "\n",
              "/**\n",
              " * @fileoverview Helpers for google.colab Python module.\n",
              " */\n",
              "(function(scope) {\n",
              "function span(text, styleAttributes = {}) {\n",
              "  const element = document.createElement('span');\n",
              "  element.textContent = text;\n",
              "  for (const key of Object.keys(styleAttributes)) {\n",
              "    element.style[key] = styleAttributes[key];\n",
              "  }\n",
              "  return element;\n",
              "}\n",
              "\n",
              "// Max number of bytes which will be uploaded at a time.\n",
              "const MAX_PAYLOAD_SIZE = 100 * 1024;\n",
              "\n",
              "function _uploadFiles(inputId, outputId) {\n",
              "  const steps = uploadFilesStep(inputId, outputId);\n",
              "  const outputElement = document.getElementById(outputId);\n",
              "  // Cache steps on the outputElement to make it available for the next call\n",
              "  // to uploadFilesContinue from Python.\n",
              "  outputElement.steps = steps;\n",
              "\n",
              "  return _uploadFilesContinue(outputId);\n",
              "}\n",
              "\n",
              "// This is roughly an async generator (not supported in the browser yet),\n",
              "// where there are multiple asynchronous steps and the Python side is going\n",
              "// to poll for completion of each step.\n",
              "// This uses a Promise to block the python side on completion of each step,\n",
              "// then passes the result of the previous step as the input to the next step.\n",
              "function _uploadFilesContinue(outputId) {\n",
              "  const outputElement = document.getElementById(outputId);\n",
              "  const steps = outputElement.steps;\n",
              "\n",
              "  const next = steps.next(outputElement.lastPromiseValue);\n",
              "  return Promise.resolve(next.value.promise).then((value) => {\n",
              "    // Cache the last promise value to make it available to the next\n",
              "    // step of the generator.\n",
              "    outputElement.lastPromiseValue = value;\n",
              "    return next.value.response;\n",
              "  });\n",
              "}\n",
              "\n",
              "/**\n",
              " * Generator function which is called between each async step of the upload\n",
              " * process.\n",
              " * @param {string} inputId Element ID of the input file picker element.\n",
              " * @param {string} outputId Element ID of the output display.\n",
              " * @return {!Iterable<!Object>} Iterable of next steps.\n",
              " */\n",
              "function* uploadFilesStep(inputId, outputId) {\n",
              "  const inputElement = document.getElementById(inputId);\n",
              "  inputElement.disabled = false;\n",
              "\n",
              "  const outputElement = document.getElementById(outputId);\n",
              "  outputElement.innerHTML = '';\n",
              "\n",
              "  const pickedPromise = new Promise((resolve) => {\n",
              "    inputElement.addEventListener('change', (e) => {\n",
              "      resolve(e.target.files);\n",
              "    });\n",
              "  });\n",
              "\n",
              "  const cancel = document.createElement('button');\n",
              "  inputElement.parentElement.appendChild(cancel);\n",
              "  cancel.textContent = 'Cancel upload';\n",
              "  const cancelPromise = new Promise((resolve) => {\n",
              "    cancel.onclick = () => {\n",
              "      resolve(null);\n",
              "    };\n",
              "  });\n",
              "\n",
              "  // Wait for the user to pick the files.\n",
              "  const files = yield {\n",
              "    promise: Promise.race([pickedPromise, cancelPromise]),\n",
              "    response: {\n",
              "      action: 'starting',\n",
              "    }\n",
              "  };\n",
              "\n",
              "  cancel.remove();\n",
              "\n",
              "  // Disable the input element since further picks are not allowed.\n",
              "  inputElement.disabled = true;\n",
              "\n",
              "  if (!files) {\n",
              "    return {\n",
              "      response: {\n",
              "        action: 'complete',\n",
              "      }\n",
              "    };\n",
              "  }\n",
              "\n",
              "  for (const file of files) {\n",
              "    const li = document.createElement('li');\n",
              "    li.append(span(file.name, {fontWeight: 'bold'}));\n",
              "    li.append(span(\n",
              "        `(${file.type || 'n/a'}) - ${file.size} bytes, ` +\n",
              "        `last modified: ${\n",
              "            file.lastModifiedDate ? file.lastModifiedDate.toLocaleDateString() :\n",
              "                                    'n/a'} - `));\n",
              "    const percent = span('0% done');\n",
              "    li.appendChild(percent);\n",
              "\n",
              "    outputElement.appendChild(li);\n",
              "\n",
              "    const fileDataPromise = new Promise((resolve) => {\n",
              "      const reader = new FileReader();\n",
              "      reader.onload = (e) => {\n",
              "        resolve(e.target.result);\n",
              "      };\n",
              "      reader.readAsArrayBuffer(file);\n",
              "    });\n",
              "    // Wait for the data to be ready.\n",
              "    let fileData = yield {\n",
              "      promise: fileDataPromise,\n",
              "      response: {\n",
              "        action: 'continue',\n",
              "      }\n",
              "    };\n",
              "\n",
              "    // Use a chunked sending to avoid message size limits. See b/62115660.\n",
              "    let position = 0;\n",
              "    do {\n",
              "      const length = Math.min(fileData.byteLength - position, MAX_PAYLOAD_SIZE);\n",
              "      const chunk = new Uint8Array(fileData, position, length);\n",
              "      position += length;\n",
              "\n",
              "      const base64 = btoa(String.fromCharCode.apply(null, chunk));\n",
              "      yield {\n",
              "        response: {\n",
              "          action: 'append',\n",
              "          file: file.name,\n",
              "          data: base64,\n",
              "        },\n",
              "      };\n",
              "\n",
              "      let percentDone = fileData.byteLength === 0 ?\n",
              "          100 :\n",
              "          Math.round((position / fileData.byteLength) * 100);\n",
              "      percent.textContent = `${percentDone}% done`;\n",
              "\n",
              "    } while (position < fileData.byteLength);\n",
              "  }\n",
              "\n",
              "  // All done.\n",
              "  yield {\n",
              "    response: {\n",
              "      action: 'complete',\n",
              "    }\n",
              "  };\n",
              "}\n",
              "\n",
              "scope.google = scope.google || {};\n",
              "scope.google.colab = scope.google.colab || {};\n",
              "scope.google.colab._files = {\n",
              "  _uploadFiles,\n",
              "  _uploadFilesContinue,\n",
              "};\n",
              "})(self);\n",
              "</script> "
            ]
          },
          "metadata": {}
        },
        {
          "output_type": "stream",
          "name": "stdout",
          "text": [
            "Saving IMG_20230322_125742408_HDR.jpg to IMG_20230322_125742408_HDR.jpg\n"
          ]
        }
      ],
      "source": [
        "from google.colab import files\n",
        "userfile = files.upload()"
      ]
    },
    {
      "cell_type": "markdown",
      "source": [
        "### 2.) Das Kernstück: Das neurale Netzwerk erkennt die Obst-/ Gemüsesorte"
      ],
      "metadata": {
        "id": "pIFuIfJScD_w"
      }
    },
    {
      "cell_type": "code",
      "source": [
        "from __future__ import print_function, division\n",
        "\n",
        "import torch\n",
        "import torch.nn as nn\n",
        "import torch.optim as optim\n",
        "from torch.optim import lr_scheduler\n",
        "import torch.backends.cudnn as cudnn\n",
        "import numpy as np\n",
        "import torchvision\n",
        "from torchvision import datasets, models, transforms\n",
        "import matplotlib.pyplot as plt\n",
        "import time\n",
        "import os\n",
        "import copy\n",
        "\n",
        "import PIL\n",
        "import io\n",
        "\n",
        "## Finetuning the covnet\n",
        "\n",
        "model_ft = models.resnet18(pretrained=True)\n",
        "num_ftrs = model_ft.fc.in_features\n",
        "# Here the size of each output sample is set to 2.\n",
        "# Alternatively, it can be generalized to nn.Linear(num_ftrs, len(class_names)).\n",
        "model_ft.fc = nn.Linear(num_ftrs, 36)  # hier Anzahl der Kategorien\n",
        "\n",
        "#model_ft = model_ft.to(device)\n",
        "\n",
        "model_ft.load_state_dict(torch.load(\"/content/drive/MyDrive/TechLabs/model_ft_36_classes.pt\"))\n",
        "model_ft.eval();\n",
        "\n",
        "categories = ['apple',\n",
        " 'banana',\n",
        " 'beetroot',\n",
        " 'bell pepper',\n",
        " 'cabbage',\n",
        " 'capsicum',\n",
        " 'carrot',\n",
        " 'cauliflower',\n",
        " 'chilli pepper',\n",
        " 'corn',\n",
        " 'cucumber',\n",
        " 'eggplant',\n",
        " 'garlic',\n",
        " 'ginger',\n",
        " 'grapes',\n",
        " 'jalepeno',\n",
        " 'kiwi',\n",
        " 'lemon',\n",
        " 'lettuce',\n",
        " 'mango',\n",
        " 'onion',\n",
        " 'orange',\n",
        " 'paprika',\n",
        " 'pear',\n",
        " 'peas',\n",
        " 'pineapple',\n",
        " 'pomegranate',\n",
        " 'potato',\n",
        " 'raddish',\n",
        " 'soy beans',\n",
        " 'spinach',\n",
        " 'sweetcorn',\n",
        " 'sweetpotato',\n",
        " 'tomato',\n",
        " 'turnip',\n",
        " 'watermelon']\n",
        "\n",
        "data_transforms = {\n",
        "    'train': transforms.Compose([\n",
        "        transforms.RandomResizedCrop(224),\n",
        "        transforms.RandomHorizontalFlip(),\n",
        "        transforms.ToTensor(),\n",
        "        transforms.Normalize([0.485, 0.456, 0.406], [0.229, 0.224, 0.225])\n",
        "    ]),\n",
        "    'val': transforms.Compose([\n",
        "        transforms.Resize(256),\n",
        "        transforms.CenterCrop(224),\n",
        "        transforms.ToTensor(),\n",
        "        transforms.Normalize([0.485, 0.456, 0.406], [0.229, 0.224, 0.225])\n",
        "    ]),\n",
        "}\n",
        "\n",
        "\n",
        "fnlist = []\n",
        "imglist = []\n",
        "for fn, fdata in userfile.items():\n",
        "    img = PIL.Image.open(io.BytesIO(fdata))\n",
        "    imglist.append(data_transforms['val'](img))\n",
        "    fnlist.append(fn)\n",
        "imgbatch = torch.stack(imglist)\n",
        "\n",
        "model_ft.eval()\n",
        "with torch.inference_mode():\n",
        "    probs, preds = model_ft(imgbatch).softmax(dim=1).max(1)\n",
        "probs = probs.tolist()\n",
        "preds = [categories[idx] for idx in preds.tolist()]\n",
        "\n",
        "result = dict(zip(fnlist, preds))\n",
        "fruit = list(result.values())[0]\n",
        "\n",
        "\n",
        "#Ausgabe vom Klimascore über ein dictionary\n",
        "co2dict = {\"apple\": \"0.525\",\n",
        "    \"banana\": \"0.757\",\n",
        "    \"beetroot\": \"\",\n",
        "    \"bell pepper\": \"3.710\",\n",
        "    \"cabbage\": \"1.599\",\n",
        "    \"capsicum\": \"3.710\",\n",
        "    \"carrot\": \"0.400\",\n",
        "    \"cauliflower\": \"1.362\",\n",
        "    \"chilli pepper\": \"\",\n",
        "    \"corn\": \"\",\n",
        "    \"cucumber\": \"1.878\",\n",
        "    \"eggplant\": \"\",\n",
        "    \"garlic\": \"\",\n",
        "    \"ginger\": \"\",\n",
        "    \"grapes\": \"1.100\",\n",
        "    \"jalepeno\": \"\",\n",
        "    \"kiwi\": \"0.721\",\n",
        "    \"lemon\": \"1.152\",\n",
        "    \"lettuce\": \"0.686\",\n",
        "    \"mango\": \"1.506\",\n",
        "    \"onion\": \"0.438\",\n",
        "    \"orange\": \"0.783\",\n",
        "    \"paprika\": \"3.710\",\n",
        "    \"pear\": \"\",\n",
        "    \"peas\": \"1.137\",\n",
        "    \"pineapple\": \"1.005\",\n",
        "    \"pomegranate\": \"\",\n",
        "    \"potato\": \"0.923\",\n",
        "    \"raddish\": \"\",\n",
        "    \"soy beans\": \"\",\n",
        "    \"spinach\": \"\",\n",
        "    \"sweetcorn\": \"\",\n",
        "    \"sweetpotato\": \"\",\n",
        "    \"tomato\": \"1.792\",\n",
        "    \"turnip\": \"\",\n",
        "    \"watermelon\": \"\"\n",
        "}\n",
        "co2_emission = co2dict[fruit]\n",
        "\n",
        "# Making three categories (low, average, high) based on all fruit and vegatable CO2 information itn the original database\n",
        "def co2_score(co2_emission):\n",
        "    if not co2_emission:\n",
        "        return \"no info\"\n",
        "    co2_emission = float(co2_emission)\n",
        "    if co2_emission < 1.168:\n",
        "        return \"This is a low climate impact compared to other fruit and vegetable. Good choice!\"\n",
        "    elif co2_emission <= 2.379:\n",
        "        return \"This is an average climate impact compared to other fruit and vegetable.\"\n",
        "    else:\n",
        "        return \"This is a high climate impact compared to other fruit and vegetable. Maybe you can find an alternative?\"\n",
        "\n",
        "co2_context = co2_score(co2_emission)"
      ],
      "metadata": {
        "id": "mHCzJVrNaaMo"
      },
      "execution_count": null,
      "outputs": []
    },
    {
      "cell_type": "markdown",
      "source": [
        "### 3.) Ausgabe der Obst-/ Gemüsesorte"
      ],
      "metadata": {
        "id": "0SfKtRuiKpLb"
      }
    },
    {
      "cell_type": "code",
      "source": [
        "f'This picture shows a(n) {fruit}!'"
      ],
      "metadata": {
        "colab": {
          "base_uri": "https://localhost:8080/",
          "height": 35
        },
        "id": "B5UcOw5GepJ5",
        "outputId": "aa3176a5-0473-44f4-e5d3-9c688fa6f0d1"
      },
      "execution_count": null,
      "outputs": [
        {
          "output_type": "execute_result",
          "data": {
            "text/plain": [
              "'This picture shows a(n) apple!'"
            ],
            "application/vnd.google.colaboratory.intrinsic+json": {
              "type": "string"
            }
          },
          "metadata": {},
          "execution_count": 23
        }
      ]
    },
    {
      "cell_type": "markdown",
      "source": [
        "### 4.) Ausgabe des Klimascores"
      ],
      "metadata": {
        "id": "2yVoZJHMhfNf"
      }
    },
    {
      "cell_type": "code",
      "source": [
        "f'The amount of CO2 emission of 1 kg {fruit} is {co2_emission} kg CO2! {co2_context}'"
      ],
      "metadata": {
        "colab": {
          "base_uri": "https://localhost:8080/",
          "height": 35
        },
        "id": "4ceC-lpqhlkf",
        "outputId": "3ef6fb97-f0ae-43af-805c-1e848babb452"
      },
      "execution_count": null,
      "outputs": [
        {
          "output_type": "execute_result",
          "data": {
            "text/plain": [
              "'The amount of CO2 emission of 1 kg apple is 0.525 kg CO2! This is a low climate impact compared to other fruit and vegetable. Good choice!'"
            ],
            "application/vnd.google.colaboratory.intrinsic+json": {
              "type": "string"
            }
          },
          "metadata": {},
          "execution_count": 24
        }
      ]
    }
  ]
}